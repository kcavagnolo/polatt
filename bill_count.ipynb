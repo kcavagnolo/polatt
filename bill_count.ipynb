{
 "cells": [
  {
   "cell_type": "code",
   "execution_count": 1,
   "metadata": {
    "collapsed": true
   },
   "outputs": [],
   "source": [
    "from operator import add\n",
    "import os.path\n",
    "import re\n",
    "from pyspark import SparkContext"
   ]
  },
  {
   "cell_type": "code",
   "execution_count": 2,
   "metadata": {
    "collapsed": true
   },
   "outputs": [],
   "source": [
    "# set path and infile\n",
    "home = os.path.expanduser('~')\n",
    "inputPath = os.path.join('polatt', 'data', 'hr_2.txt')\n",
    "infile = os.path.join(home, inputPath)"
   ]
  },
  {
   "cell_type": "code",
   "execution_count": 4,
   "metadata": {
    "collapsed": false
   },
   "outputs": [],
   "source": [
    "def wordCount(wordListRDD):\n",
    "    return (wordListRDD\n",
    "            .map(lambda x: (x, 1))\n",
    "            .reduceByKey(add))"
   ]
  },
  {
   "cell_type": "code",
   "execution_count": 5,
   "metadata": {
    "collapsed": true
   },
   "outputs": [],
   "source": [
    "def removePunctuation(text):\n",
    "    text = re.sub(r'[^\\w\\s]','',text)\n",
    "    return text.lower().strip()"
   ]
  },
  {
   "cell_type": "code",
   "execution_count": 7,
   "metadata": {
    "collapsed": false
   },
   "outputs": [
    {
     "name": "stdout",
     "output_type": "stream",
     "text": [
      "0: congressional bills 114th congress\n",
      "1: from the us government printing office\n",
      "2: hr 2 introduced in house ih\n",
      "3: \n",
      "4: 114th congress\n",
      "5: 1st session\n",
      "6: h r 2\n",
      "7: \n",
      "8: to amend title xviii of the social security act to repeal the medicare\n",
      "9: sustainable growth rate and strengthen medicare access by improving\n",
      "10: physician payments and making other improvements to reauthorize the\n",
      "11: childrens health insurance program and for other purposes\n",
      "12: \n",
      "13: \n",
      "14: _______________________________________________________________________\n"
     ]
    }
   ],
   "source": [
    "# read in words\n",
    "wordsRDD = (sc\n",
    "            .textFile(infile, 8)\n",
    "            .map(removePunctuation)\n",
    "            .cache())\n",
    "\n",
    "# check that we have some text\n",
    "print '\\n'.join(wordsRDD\n",
    "                .zipWithIndex()\n",
    "                .map(lambda (l, num): '{0}: {1}'.format(num, l))\n",
    "                .take(15))"
   ]
  },
  {
   "cell_type": "code",
   "execution_count": 8,
   "metadata": {
    "collapsed": false
   },
   "outputs": [
    {
     "name": "stdout",
     "output_type": "stream",
     "text": [
      "\n",
      "\n",
      "Word count is: 37964\n"
     ]
    }
   ],
   "source": [
    "# get all words and count\n",
    "wordsRDD = (wordsRDD\n",
    "            .flatMap(lambda x: x.split(' '))\n",
    "            .filter(lambda x: len(x) >0))\n",
    "print \"\\n\\nWord count is: %i\" % wordsRDD.count()"
   ]
  },
  {
   "cell_type": "code",
   "execution_count": 10,
   "metadata": {
    "collapsed": false
   },
   "outputs": [
    {
     "name": "stdout",
     "output_type": "stream",
     "text": [
      "the: 2333\n",
      "of: 1602\n",
      "and: 1216\n",
      "to: 911\n",
      "in: 884\n",
      "for: 835\n",
      "a: 770\n",
      "such: 654\n",
      "under: 609\n",
      "by: 505\n",
      "shall: 412\n",
      "or: 403\n",
      "year: 344\n",
      "secretary: 338\n",
      "paragraph: 324\n",
      "as: 308\n",
      "is: 296\n",
      "section: 273\n",
      "with: 266\n",
      "act: 261\n"
     ]
    }
   ],
   "source": [
    "# get top words\n",
    "twords = 20\n",
    "topWords = wordCount(wordsRDD).takeOrdered(twords,key=lambda x: -x[1])\n",
    "print '\\n'.join(map(lambda (w, c): '{0}: {1}'.format(w, c), topWords))"
   ]
  },
  {
   "cell_type": "code",
   "execution_count": null,
   "metadata": {
    "collapsed": true
   },
   "outputs": [],
   "source": []
  }
 ],
 "metadata": {
  "kernelspec": {
   "display_name": "Python 2",
   "language": "python",
   "name": "python2"
  },
  "language_info": {
   "codemirror_mode": {
    "name": "ipython",
    "version": 2
   },
   "file_extension": ".py",
   "mimetype": "text/x-python",
   "name": "python",
   "nbconvert_exporter": "python",
   "pygments_lexer": "ipython2",
   "version": "2.7.8"
  }
 },
 "nbformat": 4,
 "nbformat_minor": 0
}
