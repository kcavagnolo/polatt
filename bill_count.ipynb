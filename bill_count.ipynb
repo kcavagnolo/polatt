{
 "cells": [
  {
   "cell_type": "code",
   "execution_count": 1,
   "metadata": {
    "collapsed": false
   },
   "outputs": [],
   "source": [
    "from operator import add\n",
    "import os.path\n",
    "import re\n",
    "from pyspark import SparkContext"
   ]
  },
  {
   "cell_type": "code",
   "execution_count": 38,
   "metadata": {
    "collapsed": true
   },
   "outputs": [],
   "source": [
    "# set path and infile\n",
    "home = os.path.expanduser('~')\n",
    "bill_path = os.path.join('polatt', 'data', 'hr_2.txt')\n",
    "stop_path = os.path.join('polatt', 'data', 'stopwords.txt')\n",
    "infile = os.path.join(home, bill_path)\n",
    "stopfile = os.path.join(home, stop_path)"
   ]
  },
  {
   "cell_type": "code",
   "execution_count": 6,
   "metadata": {
    "collapsed": false
   },
   "outputs": [],
   "source": [
    "# only need the below line if running as script\n",
    "# i.e. > spark-submit count.py\n",
    "# otherwise PySpark builds the context automatically on load\n",
    "#sc = SparkContext(\"local\", \"Bill Count\")"
   ]
  },
  {
   "cell_type": "code",
   "execution_count": 20,
   "metadata": {
    "collapsed": false
   },
   "outputs": [],
   "source": [
    "def wordCount(wordListRDD):\n",
    "    return (wordListRDD\n",
    "            .map(lambda x: (x, 1))\n",
    "            .reduceByKey(add))"
   ]
  },
  {
   "cell_type": "code",
   "execution_count": 57,
   "metadata": {
    "collapsed": true
   },
   "outputs": [],
   "source": [
    "def removePunctuation(text):\n",
    "    text = re.sub(r'[^\\w+\\s]','',text)\n",
    "    return text.lower().strip()"
   ]
  },
  {
   "cell_type": "code",
   "execution_count": 58,
   "metadata": {
    "collapsed": false
   },
   "outputs": [
    {
     "name": "stdout",
     "output_type": "stream",
     "text": [
      "0: congressional bills 114th congress\n",
      "1: from the us government printing office\n",
      "2: hr 2 introduced in house ih\n",
      "3: \n",
      "4: 114th congress\n",
      "5: 1st session\n",
      "6: h r 2\n",
      "7: \n",
      "8: to amend title xviii of the social security act to repeal the medicare\n",
      "9: sustainable growth rate and strengthen medicare access by improving\n",
      "10: physician payments and making other improvements to reauthorize the\n",
      "11: childrens health insurance program and for other purposes\n",
      "12: \n",
      "13: \n",
      "14: _______________________________________________________________________\n"
     ]
    }
   ],
   "source": [
    "# read in stopwords\n",
    "stopwords = set(sc\n",
    "                .textFile(stopfile)\n",
    "                .collect())\n",
    "\n",
    "# read in words\n",
    "wordsRDD = (sc\n",
    "            .textFile(infile, 8)\n",
    "            .map(removePunctuation)\n",
    "            .cache())\n",
    "\n",
    "# check that we have some text\n",
    "print '\\n'.join(wordsRDD\n",
    "                .zipWithIndex()\n",
    "                .map(lambda (l, num): '{0}: {1}'.format(num, l))\n",
    "                .take(15))"
   ]
  },
  {
   "cell_type": "code",
   "execution_count": 59,
   "metadata": {
    "collapsed": false,
    "scrolled": true
   },
   "outputs": [
    {
     "name": "stdout",
     "output_type": "stream",
     "text": [
      "\n",
      "Word count is: 17537\n",
      "\n",
      "Tops 20 Words:\n",
      "year :: 344\n",
      "secretary :: 338\n",
      "services :: 228\n",
      "1 :: 224\n",
      "performance :: 196\n",
      "fiscal :: 186\n",
      "eligible :: 186\n",
      "security :: 172\n",
      "42 :: 166\n",
      "payment :: 165\n",
      "social :: 165\n",
      "medicare :: 162\n",
      "inserting :: 155\n",
      "professional :: 154\n",
      "period :: 146\n",
      "mips :: 143\n",
      "respect :: 140\n",
      "health :: 131\n",
      "amended :: 130\n",
      "striking :: 128\n"
     ]
    }
   ],
   "source": [
    "# get all words and count\n",
    "wordsRDD = (wordsRDD\n",
    "            .flatMap(lambda x: x.split(' '))\n",
    "            .filter(lambda x: len(x) > 0 and x not in stopwords))\n",
    "twords = 20\n",
    "topWords = wordCount(wordsRDD).takeOrdered(twords, key=lambda x: -x[1])\n",
    "print \"\\nWord count is: %i\" % wordsRDD.count()\n",
    "print \"\\nTops %i Words:\" % twords\n",
    "print '\\n'.join(map(lambda (w, c): '{0} :: {1}'.format(w, c), topWords))"
   ]
  },
  {
   "cell_type": "code",
   "execution_count": 60,
   "metadata": {
    "collapsed": false
   },
   "outputs": [],
   "source": [
    "def simpleTokenize(string):\n",
    "    if (string == ' ') or (string is None):\n",
    "        return []\n",
    "    else:\n",
    "        string = re.sub(split_regex,' ',string)\n",
    "        return string.lower().strip().split(' ')"
   ]
  },
  {
   "cell_type": "code",
   "execution_count": 61,
   "metadata": {
    "collapsed": true
   },
   "outputs": [],
   "source": [
    "def tokenize(string):\n",
    "    token_list = simpleTokenize(string)\n",
    "    tokens = [x for x in token_list if x not in stopwords]\n",
    "    return tokens"
   ]
  },
  {
   "cell_type": "code",
   "execution_count": null,
   "metadata": {
    "collapsed": true
   },
   "outputs": [],
   "source": []
  }
 ],
 "metadata": {
  "kernelspec": {
   "display_name": "Python 2",
   "language": "python",
   "name": "python2"
  },
  "language_info": {
   "codemirror_mode": {
    "name": "ipython",
    "version": 2
   },
   "file_extension": ".py",
   "mimetype": "text/x-python",
   "name": "python",
   "nbconvert_exporter": "python",
   "pygments_lexer": "ipython2",
   "version": "2.7.9"
  }
 },
 "nbformat": 4,
 "nbformat_minor": 0
}
