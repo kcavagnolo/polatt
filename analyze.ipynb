{
 "cells": [
  {
   "cell_type": "code",
   "execution_count": 1,
   "metadata": {
    "collapsed": false
   },
   "outputs": [],
   "source": [
    "import pandas as pd\n",
    "def rows_to_df(rows):\n",
    "    return pd.DataFrame(map(lambda e: e.asDict(), rows))\n",
    "from pyspark.sql import SQLContext\n",
    "sqlc = SQLContext(sc)\n",
    "rdd = sqlc.parquetFile(\"./data/movies\")\n",
    "rdd.registerTempTable(\"events\")"
   ]
  },
  {
   "cell_type": "code",
   "execution_count": 2,
   "metadata": {
    "collapsed": false
   },
   "outputs": [
    {
     "data": {
      "text/html": [
       "<div style=\"max-height:1000px;max-width:1500px;overflow:auto;\">\n",
       "<table border=\"1\" class=\"dataframe\">\n",
       "  <thead>\n",
       "    <tr style=\"text-align: right;\">\n",
       "      <th></th>\n",
       "      <th>c</th>\n",
       "      <th>entityType</th>\n",
       "      <th>event</th>\n",
       "      <th>targetEntityType</th>\n",
       "    </tr>\n",
       "  </thead>\n",
       "  <tbody>\n",
       "    <tr>\n",
       "      <th>0</th>\n",
       "      <td> 768</td>\n",
       "      <td> user</td>\n",
       "      <td>  buy</td>\n",
       "      <td> item</td>\n",
       "    </tr>\n",
       "    <tr>\n",
       "      <th>1</th>\n",
       "      <td> 733</td>\n",
       "      <td> user</td>\n",
       "      <td> rate</td>\n",
       "      <td> item</td>\n",
       "    </tr>\n",
       "  </tbody>\n",
       "</table>\n",
       "</div>"
      ],
      "text/plain": [
       "     c entityType event targetEntityType\n",
       "0  768       user   buy             item\n",
       "1  733       user  rate             item"
      ]
     },
     "execution_count": 2,
     "metadata": {},
     "output_type": "execute_result"
    }
   ],
   "source": [
    "summary = sqlc.sql(\"SELECT \"\n",
    "                   \"entityType, event, targetEntityType, COUNT(*) AS c \"\n",
    "                   \"FROM events \"\n",
    "                   \"GROUP BY entityType, event, targetEntityType\").collect()\n",
    "rows_to_df(summary)"
   ]
  },
  {
   "cell_type": "code",
   "execution_count": 3,
   "metadata": {
    "collapsed": true
   },
   "outputs": [],
   "source": [
    "import matplotlib.pyplot as plt\n",
    "count = map(lambda e: e.c, summary)\n",
    "event = map(lambda e: \"%s (%d)\" % (e.event, e.c), summary)\n",
    "colors = ['gold', 'lightskyblue']\n",
    "plt.pie(count, labels=event, colors=colors, startangle=90, autopct=\"%1.1f%%\")\n",
    "plt.axis('equal')\n",
    "plt.show()"
   ]
  },
  {
   "cell_type": "code",
   "execution_count": 4,
   "metadata": {
    "collapsed": true
   },
   "outputs": [],
   "source": [
    "ratings = sqlc.sql(\"SELECT properties.rating AS r, COUNT(*) AS c \"\n",
    "                   \"FROM events \"\n",
    "                   \"WHERE properties.rating IS NOT NULL \"\n",
    "                   \"GROUP BY properties.rating \"\n",
    "                   \"ORDER BY r\").collect()\n",
    "count = map(lambda e: e.c, ratings)\n",
    "rating = map(lambda e: \"%s (%d)\" % (e.r, e.c), ratings)\n",
    "colors = ['yellowgreen', 'plum', 'gold', 'lightskyblue', 'lightcoral']\n",
    "plt.pie(count, labels=rating, colors=colors, startangle=90,\n",
    "        autopct=\"%1.1f%%\")\n",
    "plt.axis('equal')\n",
    "plt.show()"
   ]
  },
  {
   "cell_type": "code",
   "execution_count": null,
   "metadata": {
    "collapsed": true
   },
   "outputs": [],
   "source": []
  }
 ],
 "metadata": {
  "kernelspec": {
   "display_name": "Python 2",
   "language": "python",
   "name": "python2"
  },
  "language_info": {
   "codemirror_mode": {
    "name": "ipython",
    "version": 2
   },
   "file_extension": ".py",
   "mimetype": "text/x-python",
   "name": "python",
   "nbconvert_exporter": "python",
   "pygments_lexer": "ipython2",
   "version": "2.7.8"
  }
 },
 "nbformat": 4,
 "nbformat_minor": 0
}
